{
 "cells": [
  {
   "cell_type": "code",
   "execution_count": 13,
   "metadata": {},
   "outputs": [],
   "source": [
    "import pandas as pd"
   ]
  },
  {
   "cell_type": "code",
   "execution_count": 43,
   "metadata": {},
   "outputs": [],
   "source": [
    "taxonomy_dict = {\"Kingdom\": \"k__\", \"Phylum\": \"p__\", \"Class\": \"c__\", \"Order\": \"k__\", \"Family\": \"f__\", \"Genus\": \"g__\", \"Species\": \"s__\" }\n",
    "\n",
    "def read_file(filename):\n",
    "    \"\"\"Reads in file\n",
    "    Parameters\n",
    "    ----------\n",
    "    filename: str\n",
    "        filename of OTU table/taxonomy file\"\"\"\n",
    "    # sep = None tries to infer delimiter but it may be better to write something for this just in case\n",
    "    df = pd.read_csv(filename, sep=None, index_col=0, header=0, engine=\"python\")\n",
    "    df_taxa = df[[\"taxonomy\"]]\n",
    "    return df_taxa\n",
    "def split_taxonomy(df, col):\n",
    "    \"\"\"Splits taxonomy into separate columns by ; delimiter\n",
    "    Parameters\n",
    "    ----------\n",
    "    df: Pandas Dataframe\n",
    "        Pandas dataframe containing taxonomy\n",
    "    col: str\n",
    "        taxonomy column\"\"\"\n",
    "    df[['Kingdom','Phylum', 'Class', 'Order', 'Family', 'Genus', 'Species']] = df[col].str.split(';',expand=True)\n",
    "    return df\n",
    "\n",
    "def add_taxa_prefix(df, col, prefix):\n",
    "    \"\"\"Adds greengenes format prefix to each taxonomy\n",
    "    Parameters\n",
    "    ----------\n",
    "    df: Pandas Dataframe\n",
    "        Pandas dataframe containing output from split taxonomy\n",
    "    col: str\n",
    "        column name of taxonomic level\n",
    "    prefix: str\n",
    "        gg prefix to add e.g. \"k__\" for kingdom\"\"\"\n",
    "    df[col] = prefix + df[col].astype(str)\n",
    "    return df\n",
    "def add_all_prefixes(df):\n",
    "    \"\"\"Adds all prefixes at once\n",
    "    Parameters\n",
    "    ----------\n",
    "    df: Pandas Dataframe\n",
    "        Pandas dataframe containing output from split taxonomy\"\"\"\n",
    "    for key, value in taxonomy_dict.items():\n",
    "        add_taxa_prefix(df, key, value)\n",
    "    return df\n",
    "\n",
    "def convert_to_gg(file, original_col, new_col, delim):\n",
    "    \"\"\"Converts SILVA formatted taxonomy into greengenes and output df with \n",
    "    single taxonomy column\n",
    "    Parameters\n",
    "    ----------\n",
    "    file: OTU table/Taxonomy file\n",
    "        txt or csv containing taxonomy\n",
    "    original_col: str\n",
    "        column name of silva-formatted taxonomy\n",
    "    new_col: str\n",
    "        column name to use for gg formatted taxonomy\"\"\"\n",
    "    df = read_file(file)\n",
    "    # split taxa column by delim \n",
    "    df_split_taxa = split_taxonomy(df, original_col)\n",
    "    df_prefixes = add_all_prefixes(df_split_taxa)\n",
    "    df_prefixes[new_col] = df_prefixes[df_prefixes.columns[1:]].apply(lambda x: delim.join(x.dropna().astype(str)),\n",
    "    axis=1)\n",
    "    df_out = df_prefixes[[new_col]]\n",
    "    return df_out"
   ]
  },
  {
   "cell_type": "code",
   "execution_count": 50,
   "metadata": {},
   "outputs": [],
   "source": [
    "GG_taxonomy = convert_to_gg(\"OTUs-Table.tab\", \"taxonomy\", \"gg_taxonomy\", delim=\";\")"
   ]
  },
  {
   "cell_type": "code",
   "execution_count": null,
   "metadata": {},
   "outputs": [],
   "source": []
  },
  {
   "cell_type": "code",
   "execution_count": null,
   "metadata": {},
   "outputs": [],
   "source": []
  },
  {
   "cell_type": "code",
   "execution_count": null,
   "metadata": {},
   "outputs": [],
   "source": []
  }
 ],
 "metadata": {
  "kernelspec": {
   "display_name": "Python 3",
   "language": "python",
   "name": "python3"
  },
  "language_info": {
   "codemirror_mode": {
    "name": "ipython",
    "version": 3
   },
   "file_extension": ".py",
   "mimetype": "text/x-python",
   "name": "python",
   "nbconvert_exporter": "python",
   "pygments_lexer": "ipython3",
   "version": "3.6.9"
  }
 },
 "nbformat": 4,
 "nbformat_minor": 4
}
